{
 "cells": [
  {
   "cell_type": "code",
   "execution_count": 6,
   "metadata": {},
   "outputs": [],
   "source": [
    "def Secant(f,a,b,nMax,epsilon):\n",
    "    fa=f(a)\n",
    "    fb=f(b)\n",
    "    if abs(fa) > abs(fb):\n",
    "        atemp = a\n",
    "        fatemp = fa\n",
    "        a = b\n",
    "        b = atemp\n",
    "        fa = fb\n",
    "        fb = fatemp\n",
    "        return None\n",
    "    print(0,a,fa)\n",
    "    print(1,b,fb)\n",
    "    for n in range(2,nMax):\n",
    "        if abs(fa) > abs(fb):\n",
    "            atemp = a\n",
    "            fatemp = fa\n",
    "            a = b\n",
    "            b = atemp\n",
    "            fa = fb\n",
    "            fb = fatemp\n",
    "        d = (b-a)/(fb-fa)\n",
    "        b = a\n",
    "        fb = fa\n",
    "        d = d*fa\n",
    "        if abs(d) < epsilon:\n",
    "            print(\"Convergence\")\n",
    "            print(n,a,fa)\n",
    "            break\n",
    "            return None\n",
    "        a = a-d\n",
    "        fa = f(a)\n",
    "        print(n,a,fa)"
   ]
  },
  {
   "cell_type": "code",
   "execution_count": 8,
   "metadata": {},
   "outputs": [
    {
     "name": "stdout",
     "output_type": "stream",
     "text": [
      "0 -1 1\n",
      "1 1 5\n",
      "2 -1.5 -7.96875\n",
      "3 -1.0557491289198606 0.5116486530259259\n",
      "4 -1.114157827689621 -0.09991206578398204\n",
      "5 -1.1046154657060105 0.007593217363985438\n",
      "6 -1.1052894533146722 0.00010117866436631928\n",
      "7 -1.1052985553987347 -1.0451693732704825e-07\n",
      "8 -1.1052985460060405 1.4357404154452524e-12\n",
      "9 -1.1052985460061695 4.440892098500626e-16\n",
      "Convergence\n"
     ]
    }
   ],
   "source": [
    "def p(x):\n",
    "    return x**5 + x**3 +3\n",
    "a = -1\n",
    "b = 1\n",
    "nMax = 20\n",
    "epsilon = 1/2 * 10**(-16)\n",
    "Secant(p,a,b,nMax,epsilon)"
   ]
  },
  {
   "cell_type": "code",
   "execution_count": null,
   "metadata": {},
   "outputs": [],
   "source": []
  }
 ],
 "metadata": {
  "kernelspec": {
   "display_name": "Python 3",
   "language": "python",
   "name": "python3"
  },
  "language_info": {
   "codemirror_mode": {
    "name": "ipython",
    "version": 3
   },
   "file_extension": ".py",
   "mimetype": "text/x-python",
   "name": "python",
   "nbconvert_exporter": "python",
   "pygments_lexer": "ipython3",
   "version": "3.8.5"
  }
 },
 "nbformat": 4,
 "nbformat_minor": 4
}
