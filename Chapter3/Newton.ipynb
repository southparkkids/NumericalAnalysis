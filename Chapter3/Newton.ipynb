{
 "cells": [
  {
   "cell_type": "code",
   "execution_count": 17,
   "metadata": {},
   "outputs": [],
   "source": [
    "def Newton(f,Df,x,nMax,epsilon,delta):\n",
    "    '''Approximate solution of f(x)=0 by Newton's method.\n",
    "\n",
    "    Parameters\n",
    "    ----------\n",
    "    f : function\n",
    "        Function for which we are searching for a solution f(x)=0.\n",
    "    Df : function\n",
    "        Derivative of f(x).\n",
    "    x0 : number\n",
    "        Initial guess for a solution f(x)=0.\n",
    "    epsilon : number\n",
    "        Stopping criteria is abs(f(x)) < epsilon.\n",
    "    max_iter : integer\n",
    "        Maximum number of iterations of Newton's method.\n",
    "\n",
    "    Returns\n",
    "    -------\n",
    "    xn : number\n",
    "        Implement Newton's method: compute the linear approximation\n",
    "        of f(x) at xn and find x intercept by the formula\n",
    "            x = xn - f(xn)/Df(xn)\n",
    "        Continue until abs(f(xn)) < epsilon and return xn.\n",
    "        If Df(xn) == 0, return None. If the number of iterations\n",
    "        exceeds max_iter, then return None.\n",
    "\n",
    "    Examples\n",
    "    --------\n",
    "    >>> f = lambda x: x**2 - x - 1\n",
    "    >>> Df = lambda x: 2*x - 1\n",
    "    >>> newton(f,Df,1,1e-8,10)\n",
    "    Found solution after 5 iterations.\n",
    "    1.618033988749989\n",
    "    '''\n",
    "    fx = f(x)\n",
    "    print(\"n\\t x\\u2099\\t f(x\\u2099)\")\n",
    "    print(0,\"\\t\",x,\"\\t\",fx)\n",
    "    for n in range(1,nMax):\n",
    "        fp = Df(x)\n",
    "        if abs(fp) < delta:\n",
    "            print(\"Small derivative!\")\n",
    "            break\n",
    "            return None\n",
    "        d = fx/fp\n",
    "        x = x-d\n",
    "        fx = f(x)\n",
    "        print(n,\"\\t\",x,\"\\t\",fx)\n",
    "        if abs(d) < epsilon:\n",
    "            print(\"Convergence\")\n",
    "            break\n",
    "            return None"
   ]
  },
  {
   "cell_type": "code",
   "execution_count": 19,
   "metadata": {},
   "outputs": [
    {
     "name": "stdout",
     "output_type": "stream",
     "text": [
      "n\t xₙ\t f(xₙ)\n",
      "0 \t 3.0 \t 9.0\n",
      "1 \t 2.4375 \t 2.036865234375\n",
      "2 \t 2.2130327163151096 \t 0.2563633850614173\n",
      "3 \t 2.175554938721488 \t 0.006463361488813213\n",
      "4 \t 2.174560100666446 \t 4.479068050233792e-06\n",
      "5 \t 2.1745594102933126 \t 2.157385381451604e-12\n"
     ]
    }
   ],
   "source": [
    "nMax = 6\n",
    "def f(x):\n",
    "    return ((x-2)*x+1)*x-3\n",
    "def Df(x):\n",
    "    return (3*x-4)*x+1\n",
    "x = 3.0\n",
    "epsilon = 1/2 * 10**(-6)\n",
    "delta = 1/2 * 10**(-6)\n",
    "Newton(f,Df,x,nMax,epsilon,delta)"
   ]
  },
  {
   "cell_type": "code",
   "execution_count": null,
   "metadata": {},
   "outputs": [],
   "source": []
  }
 ],
 "metadata": {
  "kernelspec": {
   "display_name": "Python 3",
   "language": "python",
   "name": "python3"
  },
  "language_info": {
   "codemirror_mode": {
    "name": "ipython",
    "version": 3
   },
   "file_extension": ".py",
   "mimetype": "text/x-python",
   "name": "python",
   "nbconvert_exporter": "python",
   "pygments_lexer": "ipython3",
   "version": "3.8.5"
  }
 },
 "nbformat": 4,
 "nbformat_minor": 4
}
