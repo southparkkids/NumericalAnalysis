{
 "cells": [
  {
   "cell_type": "code",
   "execution_count": 1,
   "id": "d3501a10-84bb-4629-91ea-86eda947c88d",
   "metadata": {},
   "outputs": [],
   "source": [
    "import numpy as np"
   ]
  },
  {
   "cell_type": "code",
   "execution_count": 12,
   "id": "d5eb7728-bed6-4da2-be85-a098db322ce0",
   "metadata": {},
   "outputs": [],
   "source": [
    "#Trapezoid from book p.204\n",
    "def Trapezoid(n, f, a, b):\n",
    "    h = (b-a)/n\n",
    "    sum1 = (0.5)*(f(a)+f(b))\n",
    "    for i in range(1,n):\n",
    "        x = a + i*h\n",
    "        sum1 = sum1 + f(x)\n",
    "    sum1 = sum1*h\n",
    "    return sum1"
   ]
  },
  {
   "cell_type": "code",
   "execution_count": 13,
   "id": "7a281f4a-57f1-432e-a83b-22348b95a8fc",
   "metadata": {},
   "outputs": [
    {
     "name": "stdout",
     "output_type": "stream",
     "text": [
      "1.0\n",
      "0.36787944117144233\n",
      "0.7468071011991205\n"
     ]
    }
   ],
   "source": [
    "def f(x):\n",
    "    return 1/(np.exp(x**2))\n",
    "n = 60\n",
    "a = 0\n",
    "b = 1\n",
    "print(f(a))\n",
    "print(f(b))\n",
    "I = Trapezoid(n,f,a,b)\n",
    "print(I)"
   ]
  },
  {
   "cell_type": "code",
   "execution_count": null,
   "id": "1faf865a-635c-4f3c-a4cc-71157008b96d",
   "metadata": {},
   "outputs": [],
   "source": []
  }
 ],
 "metadata": {
  "kernelspec": {
   "display_name": "Python 3 (ipykernel)",
   "language": "python",
   "name": "python3"
  },
  "language_info": {
   "codemirror_mode": {
    "name": "ipython",
    "version": 3
   },
   "file_extension": ".py",
   "mimetype": "text/x-python",
   "name": "python",
   "nbconvert_exporter": "python",
   "pygments_lexer": "ipython3",
   "version": "3.9.7"
  }
 },
 "nbformat": 4,
 "nbformat_minor": 5
}
