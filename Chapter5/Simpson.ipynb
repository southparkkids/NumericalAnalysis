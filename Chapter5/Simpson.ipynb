{
 "cells": [
  {
   "cell_type": "code",
   "execution_count": 1,
   "id": "04d4b6a0-06ec-412e-9f8a-55d254ca56cf",
   "metadata": {},
   "outputs": [],
   "source": [
    "import numpy as np\n",
    "import matplotlib.pyplot as plt"
   ]
  },
  {
   "cell_type": "code",
   "execution_count": 2,
   "id": "4344cad5-05fe-4a42-b47f-8804924bc548",
   "metadata": {},
   "outputs": [],
   "source": [
    "#Simpson from book p.234\n",
    "def Simpson(f, a, b, epsilon, level, level_max):\n",
    "    level = level + 1\n",
    "    h = b - a\n",
    "    c = (a + b)/2\n",
    "    one_simpson = h*(f(a) + 4*f(c) + f(b))/6\n",
    "    d = (a + c)/2\n",
    "    e = (c + b)/2\n",
    "    two_simpson = h*(f(a) + 4*f(d) + 2*f(c) + 4*f(e) + f(b))/12\n",
    "    if level >= level_max:\n",
    "        simpson_result = two_simpson\n",
    "        print(\"maximum level reached\")\n",
    "    else:\n",
    "        if np.abs(two_simpson - one_simpson) < 15*epsilon:\n",
    "            simpson_result = two_simpson + (two_simpson - one_simpson)/15\n",
    "        else:\n",
    "            left_simpson = Simpson(f,a,c,e/2,level,level_max)\n",
    "            right_simpson = Simpson(f,c,b,e/2,level,level_max)\n",
    "            simpson_result = left_simpson + right_simpson\n",
    "    return simpson_result"
   ]
  },
  {
   "cell_type": "code",
   "execution_count": 3,
   "id": "e1b8d837-66fc-4f4b-9e64-c40e19821f77",
   "metadata": {},
   "outputs": [
    {
     "name": "stdout",
     "output_type": "stream",
     "text": [
      "0.20835692360050967\n"
     ]
    }
   ],
   "source": [
    "#test integral\n",
    "def f(x):\n",
    "    return np.cos(2*x)/np.exp(x)\n",
    "a = 0\n",
    "b = (5/4) * np.pi\n",
    "epsilon = (1/2)*(10**-3)\n",
    "level = 0\n",
    "level_max = 100\n",
    "print(Simpson(f, a, b, epsilon, level, level_max))"
   ]
  },
  {
   "cell_type": "code",
   "execution_count": 4,
   "id": "d1b2ae8a-4ea4-4da3-b444-f8886be1c659",
   "metadata": {},
   "outputs": [],
   "source": [
    "#Simpson with graphing\n",
    "def Simpson(f, a, b, epsilon, level, level_max):\n",
    "    level = level + 1\n",
    "    h = b - a\n",
    "    c = (a + b)/2\n",
    "    one_simpson = h*(f(a) + 4*f(c) + f(b))/6\n",
    "    d = (a + c)/2\n",
    "    e = (c + b)/2\n",
    "    two_simpson = h*(f(a) + 4*f(d) + 2*f(c) + 4*f(e) + f(b))/12\n",
    "    XP.append(a)\n",
    "    XP.append(b)\n",
    "    XP.append(c)\n",
    "    XP.append(d)\n",
    "    XP.append(e)\n",
    "    if level >= level_max:\n",
    "        simpson_result = two_simpson\n",
    "        print(\"maximum level reached\")\n",
    "    else:\n",
    "        if np.abs(two_simpson - one_simpson) < 15*epsilon:\n",
    "            simpson_result = two_simpson + (two_simpson - one_simpson)/15\n",
    "        else:\n",
    "            left_simpson = Simpson(f,a,c,epsilon/2,level,level_max)\n",
    "            right_simpson = Simpson(f,c,b,epsilon/2,level,level_max)\n",
    "            simpson_result = left_simpson + right_simpson\n",
    "    return simpson_result"
   ]
  },
  {
   "cell_type": "code",
   "execution_count": 12,
   "id": "2440f646-f36d-4e38-b81f-55b9dec29791",
   "metadata": {},
   "outputs": [
    {
     "name": "stdout",
     "output_type": "stream",
     "text": [
      "0.20808808187162117\n",
      "x-values used by Simpson approximation:\n",
      "[0, 0.123, 0.245, 0.368, 0.491, 0.614, 0.736, 0.859, 0.982, 1.227, 1.473, 1.718, 1.963, 2.454, 2.945, 3.436, 3.927]\n",
      "Corresponding f(x)-values used by Simpson approximation:\n",
      "[1.0, 0.858, 0.69, 0.513, 0.34, 0.182, 0.047, -0.062, -0.143, -0.227, -0.225, -0.172, -0.099, 0.017, 0.049, 0.027, 0.0]\n"
     ]
    }
   ],
   "source": [
    "#test integral\n",
    "def f(x):\n",
    "    return np.cos(2*x)/np.exp(x)\n",
    "a = 0\n",
    "b = (5/4) * np.pi\n",
    "epsilon = (1/2)*(10**-3)\n",
    "level = 0\n",
    "level_max = 5\n",
    "XP = []\n",
    "I = Simpson(f, a, b, epsilon, level, level_max)\n",
    "XP = list(set(XP))\n",
    "XP.sort()\n",
    "PP = list(map(f,XP))\n",
    "print(I)\n",
    "rounded_XP = [round(num, 3) for num in XP]\n",
    "rounded_PP = [round(num, 3) for num in PP]\n",
    "print(\"x-values used by Simpson approximation:\")\n",
    "print(rounded_XP)\n",
    "print(\"Corresponding f(x)-values used by Simpson approximation:\")\n",
    "print(rounded_PP)"
   ]
  },
  {
   "cell_type": "code",
   "execution_count": 13,
   "id": "0335a39b-3e47-4e1e-a894-79b6165f3913",
   "metadata": {},
   "outputs": [
    {
     "data": {
      "image/png": "[encoded data removed]",
      "text/plain": [
       "<Figure size 720x432 with 1 Axes>"
      ]
     },
     "metadata": {
      "needs_background": "light"
     },
     "output_type": "display_data"
    }
   ],
   "source": [
    "X = np.arange(0, 4, 0.01);\n",
    "FVAL = np.cos(2*X)/np.exp(X)\n",
    "\n",
    "fig = plt.figure(figsize=(10, 6))\n",
    "ax1 = fig.add_subplot(111)\n",
    "\n",
    "ax1.plot(X,FVAL, label = 'cos(2x)/e^x')\n",
    "ax1.scatter(XP,PP)\n",
    "\n",
    "\n",
    "# Give a title for the sine wave plot\n",
    "plt.title('Arctan vs Polynomial Interpretation Plot')\n",
    "\n",
    "# Give x axis label for the sine wave plot\n",
    "plt.xlabel('x')\n",
    "\n",
    "# Give y axis label for the sine wave plot\n",
    "plt.legend(loc='upper left')\n",
    "plt.grid(True, which='both')\n",
    "plt.axhline(y=0)\n",
    "plt.stem(XP,PP)\n",
    "plt.show()"
   ]
  },
  {
   "cell_type": "code",
   "execution_count": null,
   "id": "13ce3d12-30cd-4c36-a250-a9c2f15a899b",
   "metadata": {},
   "outputs": [],
   "source": []
  },
  {
   "cell_type": "code",
   "execution_count": null,
   "id": "25e56291-4904-4858-9a19-f581dcf6cec4",
   "metadata": {},
   "outputs": [],
   "source": []
  }
 ],
 "metadata": {
  "kernelspec": {
   "display_name": "Python 3 (ipykernel)",
   "language": "python",
   "name": "python3"
  },
  "language_info": {
   "codemirror_mode": {
    "name": "ipython",
    "version": 3
   },
   "file_extension": ".py",
   "mimetype": "text/x-python",
   "name": "python",
   "nbconvert_exporter": "python",
   "pygments_lexer": "ipython3",
   "version": "3.9.7"
  }
 },
 "nbformat": 4,
 "nbformat_minor": 5
}
