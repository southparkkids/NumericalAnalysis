{
 "cells": [
  {
   "cell_type": "code",
   "execution_count": 1,
   "id": "8e4f9c81-639f-40ed-822e-9e352c2f935e",
   "metadata": {},
   "outputs": [],
   "source": [
    "import numpy as np\n",
    "np.set_printoptions(edgeitems=30, linewidth=100000, \n",
    "    formatter=dict(float=lambda x: \"%.10g\" % x))"
   ]
  },
  {
   "cell_type": "code",
   "execution_count": 2,
   "id": "03c16bde-2a33-49e4-954e-59a75b069e5c",
   "metadata": {},
   "outputs": [],
   "source": [
    "#Romberg from book p.219\n",
    "def Romberg(f, a, b, n):\n",
    "    R = np.array([[0.0]*n]*n, float)\n",
    "    h = b - a\n",
    "    R[0][0] = (h/2) * (f(a) + f(b))\n",
    "    for i in range(1,n):\n",
    "        h = h/2\n",
    "        sum1 = 0\n",
    "        for k in range(1,2**(i)+1, 2):\n",
    "            sum1 = sum1+f(a+(k*h))\n",
    "        R[i][0] = (1/2)*R[i-1][0] + sum1*h\n",
    "        for j in range(1,i+1):\n",
    "            R[i][j] = R[i][j-1] + (R[i][j-1] - R[i-1][j-1])/(4**(j) - 1)\n",
    "    return R"
   ]
  },
  {
   "cell_type": "code",
   "execution_count": 3,
   "id": "ba56a657-93cc-4ff9-a55d-02a17a4d6c4e",
   "metadata": {},
   "outputs": [
    {
     "name": "stdout",
     "output_type": "stream",
     "text": [
      "[[3 0 0 0 0]\n",
      " [3.1 3.133333333 0 0 0]\n",
      " [3.131176471 3.141568627 3.142117647 0 0]\n",
      " [3.138988494 3.141592502 3.141594094 3.141585784 0]\n",
      " [3.140941612 3.141592651 3.141592661 3.141592638 3.141592665]]\n"
     ]
    }
   ],
   "source": [
    "#test integral\n",
    "def f(x):\n",
    "    return 4/(1+x**2)\n",
    "a = 0\n",
    "b = 1\n",
    "n = 5\n",
    "print(Romberg(f,a,b,n))"
   ]
  },
  {
   "cell_type": "code",
   "execution_count": null,
   "id": "dcae159b-5885-4606-933b-7fa13f8b4508",
   "metadata": {},
   "outputs": [],
   "source": []
  }
 ],
 "metadata": {
  "kernelspec": {
   "display_name": "Python 3 (ipykernel)",
   "language": "python",
   "name": "python3"
  },
  "language_info": {
   "codemirror_mode": {
    "name": "ipython",
    "version": 3
   },
   "file_extension": ".py",
   "mimetype": "text/x-python",
   "name": "python",
   "nbconvert_exporter": "python",
   "pygments_lexer": "ipython3",
   "version": "3.9.7"
  }
 },
 "nbformat": 4,
 "nbformat_minor": 5
}
