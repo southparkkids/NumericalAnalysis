{
 "cells": [
  {
   "cell_type": "code",
   "execution_count": 1,
   "id": "444aa193-0ee4-406a-97ad-9d7435f8fc75",
   "metadata": {},
   "outputs": [],
   "source": [
    "import numpy as np"
   ]
  },
  {
   "cell_type": "code",
   "execution_count": 2,
   "id": "354521fe-450a-4f48-90d9-f4e4142b7c32",
   "metadata": {},
   "outputs": [],
   "source": [
    "# Quadratic Integral Approximation 5.4\n",
    "def GausIntegral(f, a, b, n):\n",
    "    def g(t):\n",
    "        return f(((b-a)*t+(b+a))/2) * ((b-a)/2)\n",
    "    if n == 1:\n",
    "        I = g(-(1/3)**0.5) \\\n",
    "            + g((1/3)**0.5)\n",
    "        return I\n",
    "    if n == 2:\n",
    "        I = (5/9)*g(-(3/5)**0.5) \\\n",
    "            + (8/9)*g(0) \\\n",
    "            + (5/9)*g((3/5)**0.5)\n",
    "        return I\n",
    "    if n == 3:\n",
    "        I = ((1/2)+(1/12)*((10/3)**.5))*g(-((1/7)*(3-4*(0.3**0.5)))**0.5) \\\n",
    "            + ((1/2)-(1/12)*((10/3)**.5))*g(-((1/7)*(3+4*(0.3**0.5)))**0.5) \\\n",
    "            + ((1/2)+(1/12)*((10/3)**.5))*g(((1/7)*(3-4*(0.3**0.5)))**0.5) \\\n",
    "            + ((1/2)-(1/12)*((10/3)**.5))*g(((1/7)*(3+4*(0.3**0.5)))**0.5)\n",
    "        return I\n",
    "    if n == 4:\n",
    "        I = (0.3*((-0.7+5*(0.7**0.5))/(-2+5*(0.7**0.5))))*g(-((1/9)*(5-(2*(((10/7)**0.5)))))**0.5) \\\n",
    "            + (0.3*((0.7+5*(0.7**0.5))/(2+5*(0.7**0.5))))*g(-((1/9)*(5+(2*(((10/7)**0.5)))))**0.5) \\\n",
    "            + (128/225)*g(0) \\\n",
    "            + (0.3*((-0.7+5*(0.7**0.5))/(-2+5*(0.7**0.5))))*g(((1/9)*(5-(2*(((10/7)**0.5)))))**0.5) \\\n",
    "            + (0.3*((0.7+5*(0.7**0.5))/(2+5*(0.7**0.5))))*g(((1/9)*(5+(2*(((10/7)**0.5)))))**0.5)\n",
    "        return I"
   ]
  },
  {
   "cell_type": "code",
   "execution_count": 3,
   "id": "17f8b4a6-9829-49b6-94c9-31898c4796bd",
   "metadata": {},
   "outputs": [
    {
     "name": "stdout",
     "output_type": "stream",
     "text": [
      "1.6506801238857844\n",
      "0.23238012388578455\n"
     ]
    }
   ],
   "source": [
    "def f(x):\n",
    "    return 1/(x**0.5)\n",
    "a = 0\n",
    "b = 1\n",
    "I = GausIntegral(f, a, b, 1)\n",
    "print(I)\n",
    "print(I - 1.4183)\n",
    "# Book solution of 1.4183 is wrong?"
   ]
  },
  {
   "cell_type": "code",
   "execution_count": 4,
   "id": "0d82e968-209e-41c8-b108-b62394db7090",
   "metadata": {},
   "outputs": [
    {
     "name": "stdout",
     "output_type": "stream",
     "text": [
      "0.7468145841912559\n",
      "1.9125590000612647e-10\n"
     ]
    }
   ],
   "source": [
    "# Example 3 approximation for e^(-x^2) from x = 0 to x = 1\n",
    "def f(x):\n",
    "    return np.exp(-(x**2))\n",
    "a = 0\n",
    "b = 1\n",
    "I = GausIntegral(f, a, b, 2)\n",
    "print(I)\n",
    "print(I-0.746814584)\n",
    "#Correct!!!"
   ]
  },
  {
   "cell_type": "code",
   "execution_count": null,
   "id": "ff6d9d0e-89d5-45ed-a865-4d699c336781",
   "metadata": {},
   "outputs": [],
   "source": []
  }
 ],
 "metadata": {
  "kernelspec": {
   "display_name": "Python 3 (ipykernel)",
   "language": "python",
   "name": "python3"
  },
  "language_info": {
   "codemirror_mode": {
    "name": "ipython",
    "version": 3
   },
   "file_extension": ".py",
   "mimetype": "text/x-python",
   "name": "python",
   "nbconvert_exporter": "python",
   "pygments_lexer": "ipython3",
   "version": "3.9.7"
  }
 },
 "nbformat": 4,
 "nbformat_minor": 5
}
