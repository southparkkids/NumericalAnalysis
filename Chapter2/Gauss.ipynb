{
 "cells": [
  {
   "cell_type": "code",
   "execution_count": 1,
   "metadata": {},
   "outputs": [],
   "source": [
    "import numpy as np"
   ]
  },
  {
   "cell_type": "code",
   "execution_count": 2,
   "metadata": {},
   "outputs": [],
   "source": [
    "def Gauss(n, A):\n",
    "    X = np.zeros(n,dtype=float)\n",
    "    L = np.arange(n,dtype=int)   #index vector\n",
    "    S = np.zeros(n,dtype=float)\n",
    "    for i in range(0, n):\n",
    "        L[i] = i\n",
    "        smax = 0\n",
    "        for j in range(0, n):\n",
    "            smax = max(smax, np.abs(A[i][j]))\n",
    "        S[i] = smax\n",
    "    for k in range(0, n-1):\n",
    "        rmax = 0\n",
    "        for i in range(k, n):\n",
    "            r = np.abs(A[L[i]][k]/S[L[i]])\n",
    "            if r > rmax:\n",
    "                rmax = r\n",
    "                j = i\n",
    "        temp = L[j]\n",
    "        L[j] = L[k]\n",
    "        L[k] = temp\n",
    "        for i in range(k+1, n):\n",
    "            xmult = A[L[i]][k]/A[L[k]][k]\n",
    "            A[L[i]][k] = xmult\n",
    "            for j in range (k+1, n):\n",
    "                A[L[i]][j] = A[L[i]][j] - (xmult*A[L[k]][j])\n",
    "    return X,A,L"
   ]
  },
  {
   "cell_type": "code",
   "execution_count": 3,
   "metadata": {},
   "outputs": [],
   "source": [
    "def Solve(n,A,L,B,X):\n",
    "    for k in range(0, n-1):\n",
    "        for i in range(k+1, n):\n",
    "            B[L[i]] = B[L[i]]-(A[L[i]][k]*B[L[k]])\n",
    "    X[n-1] = B[L[n-1]]/A[L[n-1]][n-1]\n",
    "    for i in range(n-1, -1, -1):\n",
    "        sum1 = B[L[i]]\n",
    "        for j in range(i+1, n):\n",
    "            sum1 = sum1-A[L[i]][j]*X[j]\n",
    "        X[i] = sum1/A[L[i]][i]\n",
    "    return X"
   ]
  },
  {
   "cell_type": "code",
   "execution_count": 4,
   "metadata": {},
   "outputs": [],
   "source": [
    "def FullGauss(n,A,B):\n",
    "    X,A,L = Gauss(n, A)\n",
    "    X = Solve(n,A,L,B,X)\n",
    "    return X"
   ]
  },
  {
   "cell_type": "code",
   "execution_count": 5,
   "metadata": {},
   "outputs": [
    {
     "name": "stdout",
     "output_type": "stream",
     "text": [
      "[[ 3.  4.  3.]\n",
      " [ 1.  5. -1.]\n",
      " [ 6.  3.  7.]] \n",
      "\n",
      "[10.  7. 15.] \n",
      "\n",
      "Solution  [2. 1. 0.]\n"
     ]
    }
   ],
   "source": [
    "#Example\n",
    "A = np.array([[3.0, 4, 3],\n",
    "              [1, 5, -1],\n",
    "              [6, 3, 7]])\n",
    "B = np.array([10.0, 7, 15])\n",
    "print(A, \"\\n\")\n",
    "print(B, \"\\n\")\n",
    "\n",
    "n = 3\n",
    "X,A,L = Gauss(n,A)\n",
    "X = Solve(n,A,L,B,X)\n",
    "print(\"Solution \", X)\n",
    "#solution [2,1,0]"
   ]
  }
 ],
 "metadata": {
  "kernelspec": {
   "display_name": "Python 3 (ipykernel)",
   "language": "python",
   "name": "python3"
  },
  "language_info": {
   "codemirror_mode": {
    "name": "ipython",
    "version": 3
   },
   "file_extension": ".py",
   "mimetype": "text/x-python",
   "name": "python",
   "nbconvert_exporter": "python",
   "pygments_lexer": "ipython3",
   "version": "3.9.7"
  }
 },
 "nbformat": 4,
 "nbformat_minor": 4
}
