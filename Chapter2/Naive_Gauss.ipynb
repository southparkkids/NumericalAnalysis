{
 "cells": [
  {
   "cell_type": "code",
   "execution_count": 1,
   "metadata": {},
   "outputs": [],
   "source": [
    "#Naive_Gauss Pseudocode copied\n",
    "import numpy as np\n",
    "import sys"
   ]
  },
  {
   "cell_type": "code",
   "execution_count": 2,
   "metadata": {},
   "outputs": [],
   "source": [
    "#Naive_Gauss Pseudocode For Python\n",
    "def Naive_Gauss(A, B):\n",
    "    n = len(B)\n",
    "    # Elimination phase\n",
    "    for k in range(0, n-1):\n",
    "        for i in range(k+1, n):\n",
    "            if A[i,k] != 0.0:\n",
    "                lam = A[i,k]/A[k,k]\n",
    "                A[i,k+1:n] = A[i,k+1:n] - lam*A[k,k+1:n]\n",
    "                B[i] = B[i] - lam*B[k]\n",
    "    # Back substitution\n",
    "    for k in range(n-1, -1, -1):\n",
    "        B[k] = (B[k] - np.dot(A[k,k+1:n],B[k+1:n]))/A[k,k]\n",
    "    return B"
   ]
  },
  {
   "cell_type": "code",
   "execution_count": 3,
   "metadata": {},
   "outputs": [
    {
     "name": "stdout",
     "output_type": "stream",
     "text": [
      "[ 3.  1. -5.]\n"
     ]
    }
   ],
   "source": [
    "A = np.array([[2, 1, 1],\n",
    "              [-1, 1, -1],\n",
    "              [1, 2, 3]], dtype = float)\n",
    "\n",
    "B = np.array([2, 3, -10], dtype = float)\n",
    "X = Naive_Gauss(A, B)\n",
    "print(X)\n",
    "#answer [3,1,-5]"
   ]
  },
  {
   "cell_type": "code",
   "execution_count": 4,
   "metadata": {},
   "outputs": [
    {
     "name": "stdout",
     "output_type": "stream",
     "text": [
      "3\n",
      "4\n"
     ]
    }
   ],
   "source": [
    "A = np.array([[2, 1, 1, 2],\n",
    "              [-1, 1, -1, 3],\n",
    "              [1, 2, 3, -10]], dtype = float)\n",
    "rows = np.shape(A)[0]\n",
    "cols = np.shape(A)[1]\n",
    "print(rows)\n",
    "print(cols)"
   ]
  },
  {
   "cell_type": "code",
   "execution_count": 9,
   "metadata": {},
   "outputs": [
    {
     "name": "stdout",
     "output_type": "stream",
     "text": [
      "[[ 0.  1.  2.  3.  4.  5.  6.  7.  8.  9.]\n",
      " [10. 11. 12. 13. 14. 15. 16. 17. 18. 19.]\n",
      " [20. 21. 22. 23. 24. 25. 26. 27. 28. 29.]\n",
      " [30. 31. 32. 33. 34. 35. 36. 37. 38. 39.]\n",
      " [40. 41. 42. 43. 44. 45. 46. 47. 48. 49.]\n",
      " [50. 51. 52. 53. 54. 55. 56. 57. 58. 59.]\n",
      " [60. 61. 62. 63. 64. 65. 66. 67. 68. 69.]\n",
      " [70. 71. 72. 73. 74. 75. 76. 77. 78. 79.]\n",
      " [80. 81. 82. 83. 84. 85. 86. 87. 88. 89.]\n",
      " [90. 91. 92. 93. 94. 95. 96. 97. 98. 99.]]\n",
      "[0. 1. 2. 3. 4. 5. 6. 7. 8. 9.]\n",
      "\n",
      " [[0.000000e+00 1.000000e+00 2.000000e+00 3.000000e+00 4.000000e+00\n",
      "  5.000000e+00 6.000000e+00 7.000000e+00 8.000000e+00 9.000000e+00]\n",
      " [1.000000e+01 1.000000e+00 2.000000e+00 4.000000e+00 8.000000e+00\n",
      "  1.600000e+01 3.200000e+01 6.400000e+01 1.280000e+02 1.900000e+01]\n",
      " [2.000000e+01 1.000000e+00 3.000000e+00 9.000000e+00 2.700000e+01\n",
      "  8.100000e+01 2.430000e+02 7.290000e+02 2.187000e+03 2.900000e+01]\n",
      " [3.000000e+01 1.000000e+00 4.000000e+00 1.600000e+01 6.400000e+01\n",
      "  2.560000e+02 1.024000e+03 4.096000e+03 1.638400e+04 3.900000e+01]\n",
      " [4.000000e+01 1.000000e+00 5.000000e+00 2.500000e+01 1.250000e+02\n",
      "  6.250000e+02 3.125000e+03 1.562500e+04 7.812500e+04 4.900000e+01]\n",
      " [5.000000e+01 1.000000e+00 6.000000e+00 3.600000e+01 2.160000e+02\n",
      "  1.296000e+03 7.776000e+03 4.665600e+04 2.799360e+05 5.900000e+01]\n",
      " [6.000000e+01 1.000000e+00 7.000000e+00 4.900000e+01 3.430000e+02\n",
      "  2.401000e+03 1.680700e+04 1.176490e+05 8.235430e+05 6.900000e+01]\n",
      " [7.000000e+01 1.000000e+00 8.000000e+00 6.400000e+01 5.120000e+02\n",
      "  4.096000e+03 3.276800e+04 2.621440e+05 2.097152e+06 7.900000e+01]\n",
      " [8.000000e+01 1.000000e+00 9.000000e+00 8.100000e+01 7.290000e+02\n",
      "  6.561000e+03 5.904900e+04 5.314410e+05 4.782969e+06 8.900000e+01]\n",
      " [9.000000e+01 9.100000e+01 9.200000e+01 9.300000e+01 9.400000e+01\n",
      "  9.500000e+01 9.600000e+01 9.700000e+01 9.800000e+01 9.900000e+01]] \n",
      " [0.0000000e+00 5.1100000e+02 9.8410000e+03 8.7381000e+04 4.8828100e+05\n",
      " 2.0155390e+06 6.7256010e+06 1.9173961e+07 4.8427561e+07 9.0000000e+00]\n",
      "\n",
      " [nan nan nan nan nan nan nan nan nan nan]\n"
     ]
    },
    {
     "name": "stderr",
     "output_type": "stream",
     "text": [
      "C:\\Users\\ramie\\AppData\\Local\\Temp/ipykernel_19692/1768707043.py:8: RuntimeWarning: divide by zero encountered in double_scalars\n",
      "  lam = A[i,k]/A[k,k]\n",
      "C:\\Users\\ramie\\AppData\\Local\\Temp/ipykernel_19692/1768707043.py:10: RuntimeWarning: invalid value encountered in double_scalars\n",
      "  B[i] = B[i] - lam*B[k]\n",
      "C:\\Users\\ramie\\AppData\\Local\\Temp/ipykernel_19692/1768707043.py:8: RuntimeWarning: invalid value encountered in double_scalars\n",
      "  lam = A[i,k]/A[k,k]\n"
     ]
    }
   ],
   "source": [
    "m = 10\n",
    "#A = np.array(zeros_like)\n",
    "#B = np.array(zeros_like)\n",
    "A = np.arange(m*m,dtype=float).reshape(m, m)   #, dtype=np.int32\n",
    "B = np.arange(10,dtype=float)\n",
    "print(A)\n",
    "print(B)\n",
    "for n in range(4,m):\n",
    "    for i in range(1,n):\n",
    "        for j in range(1,n):\n",
    "            A[i][j] = (i+1)**(j-1)\n",
    "        B[i] = (((i+1)**n)-1)/i\n",
    "print(\"\\n\",A,\"\\n\",B)\n",
    "X = Naive_Gauss(A,B)\n",
    "print(\"\\n\",X)"
   ]
  },
  {
   "cell_type": "code",
   "execution_count": 10,
   "metadata": {},
   "outputs": [
    {
     "name": "stdout",
     "output_type": "stream",
     "text": [
      "[[ 1.  0.  3.]\n",
      " [ 0.  1. -3.]\n",
      " [ 3. -3.  0.]\n",
      " [ 0.  2.  4.]] \n",
      "\n",
      "[ 0.  0.  6. -6.] \n",
      "\n"
     ]
    },
    {
     "ename": "IndexError",
     "evalue": "index 3 is out of bounds for axis 1 with size 3",
     "output_type": "error",
     "traceback": [
      "\u001b[1;31m---------------------------------------------------------------------------\u001b[0m",
      "\u001b[1;31mIndexError\u001b[0m                                Traceback (most recent call last)",
      "\u001b[1;32m~\\AppData\\Local\\Temp/ipykernel_19692/2365031192.py\u001b[0m in \u001b[0;36m<module>\u001b[1;34m\u001b[0m\n\u001b[0;32m      7\u001b[0m \u001b[0mprint\u001b[0m\u001b[1;33m(\u001b[0m\u001b[0mB\u001b[0m\u001b[1;33m,\u001b[0m \u001b[1;34m\"\\n\"\u001b[0m\u001b[1;33m)\u001b[0m\u001b[1;33m\u001b[0m\u001b[1;33m\u001b[0m\u001b[0m\n\u001b[0;32m      8\u001b[0m \u001b[1;33m\u001b[0m\u001b[0m\n\u001b[1;32m----> 9\u001b[1;33m \u001b[0mX\u001b[0m \u001b[1;33m=\u001b[0m \u001b[0mNaive_Gauss\u001b[0m\u001b[1;33m(\u001b[0m\u001b[0mA\u001b[0m\u001b[1;33m,\u001b[0m\u001b[0mB\u001b[0m\u001b[1;33m)\u001b[0m\u001b[1;33m\u001b[0m\u001b[1;33m\u001b[0m\u001b[0m\n\u001b[0m\u001b[0;32m     10\u001b[0m \u001b[0mprint\u001b[0m\u001b[1;33m(\u001b[0m\u001b[0mX\u001b[0m\u001b[1;33m,\u001b[0m\u001b[1;34m\"\\n\"\u001b[0m\u001b[1;33m)\u001b[0m\u001b[1;33m\u001b[0m\u001b[1;33m\u001b[0m\u001b[0m\n",
      "\u001b[1;32m~\\AppData\\Local\\Temp/ipykernel_19692/1768707043.py\u001b[0m in \u001b[0;36mNaive_Gauss\u001b[1;34m(A, B)\u001b[0m\n\u001b[0;32m     11\u001b[0m     \u001b[1;31m# Back substitution\u001b[0m\u001b[1;33m\u001b[0m\u001b[1;33m\u001b[0m\u001b[0m\n\u001b[0;32m     12\u001b[0m     \u001b[1;32mfor\u001b[0m \u001b[0mk\u001b[0m \u001b[1;32min\u001b[0m \u001b[0mrange\u001b[0m\u001b[1;33m(\u001b[0m\u001b[0mn\u001b[0m\u001b[1;33m-\u001b[0m\u001b[1;36m1\u001b[0m\u001b[1;33m,\u001b[0m \u001b[1;33m-\u001b[0m\u001b[1;36m1\u001b[0m\u001b[1;33m,\u001b[0m \u001b[1;33m-\u001b[0m\u001b[1;36m1\u001b[0m\u001b[1;33m)\u001b[0m\u001b[1;33m:\u001b[0m\u001b[1;33m\u001b[0m\u001b[1;33m\u001b[0m\u001b[0m\n\u001b[1;32m---> 13\u001b[1;33m         \u001b[0mB\u001b[0m\u001b[1;33m[\u001b[0m\u001b[0mk\u001b[0m\u001b[1;33m]\u001b[0m \u001b[1;33m=\u001b[0m \u001b[1;33m(\u001b[0m\u001b[0mB\u001b[0m\u001b[1;33m[\u001b[0m\u001b[0mk\u001b[0m\u001b[1;33m]\u001b[0m \u001b[1;33m-\u001b[0m \u001b[0mnp\u001b[0m\u001b[1;33m.\u001b[0m\u001b[0mdot\u001b[0m\u001b[1;33m(\u001b[0m\u001b[0mA\u001b[0m\u001b[1;33m[\u001b[0m\u001b[0mk\u001b[0m\u001b[1;33m,\u001b[0m\u001b[0mk\u001b[0m\u001b[1;33m+\u001b[0m\u001b[1;36m1\u001b[0m\u001b[1;33m:\u001b[0m\u001b[0mn\u001b[0m\u001b[1;33m]\u001b[0m\u001b[1;33m,\u001b[0m\u001b[0mB\u001b[0m\u001b[1;33m[\u001b[0m\u001b[0mk\u001b[0m\u001b[1;33m+\u001b[0m\u001b[1;36m1\u001b[0m\u001b[1;33m:\u001b[0m\u001b[0mn\u001b[0m\u001b[1;33m]\u001b[0m\u001b[1;33m)\u001b[0m\u001b[1;33m)\u001b[0m\u001b[1;33m/\u001b[0m\u001b[0mA\u001b[0m\u001b[1;33m[\u001b[0m\u001b[0mk\u001b[0m\u001b[1;33m,\u001b[0m\u001b[0mk\u001b[0m\u001b[1;33m]\u001b[0m\u001b[1;33m\u001b[0m\u001b[1;33m\u001b[0m\u001b[0m\n\u001b[0m\u001b[0;32m     14\u001b[0m     \u001b[1;32mreturn\u001b[0m \u001b[0mB\u001b[0m\u001b[1;33m\u001b[0m\u001b[1;33m\u001b[0m\u001b[0m\n",
      "\u001b[1;31mIndexError\u001b[0m: index 3 is out of bounds for axis 1 with size 3"
     ]
    }
   ],
   "source": [
    "A = np.array([[1.0, 0, 3],\n",
    "              [0, 1, -3],\n",
    "              [3, -3, 0],\n",
    "              [0, 2, 4]])\n",
    "B = np.array([0.0, 0, 6, -6])\n",
    "print(A, \"\\n\")\n",
    "print(B, \"\\n\")\n",
    "\n",
    "X = Naive_Gauss(A,B)\n",
    "print(X,\"\\n\")"
   ]
  },
  {
   "cell_type": "code",
   "execution_count": null,
   "metadata": {},
   "outputs": [],
   "source": []
  }
 ],
 "metadata": {
  "kernelspec": {
   "display_name": "Python 3 (ipykernel)",
   "language": "python",
   "name": "python3"
  },
  "language_info": {
   "codemirror_mode": {
    "name": "ipython",
    "version": 3
   },
   "file_extension": ".py",
   "mimetype": "text/x-python",
   "name": "python",
   "nbconvert_exporter": "python",
   "pygments_lexer": "ipython3",
   "version": "3.9.7"
  }
 },
 "nbformat": 4,
 "nbformat_minor": 4
}
