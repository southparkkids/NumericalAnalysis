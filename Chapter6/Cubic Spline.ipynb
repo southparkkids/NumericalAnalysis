{
 "cells": [
  {
   "cell_type": "code",
   "execution_count": 1,
   "id": "8c6fd792-a82c-4c9a-bd04-45301264a486",
   "metadata": {},
   "outputs": [],
   "source": [
    "import numpy as np"
   ]
  },
  {
   "cell_type": "code",
   "execution_count": 21,
   "id": "0656e4c0-0172-42a4-8c3a-e040f02a4f6c",
   "metadata": {},
   "outputs": [],
   "source": [
    "# Spline3_Coef pseudocode p.271\n",
    "def Spline3_Coef(n, t, y, z):\n",
    "    h = np.zeros(n)\n",
    "    b = np.zeros(n)\n",
    "    u = np.zeros(n)\n",
    "    v = np.zeros(n)\n",
    "    for i in range(0, n-1):\n",
    "        h[i] = t[i+1] - t[i]\n",
    "        b[i] = (y[i+1] - y[i])/h[i]\n",
    "    u[1] = 2*(h[0] + h[1])\n",
    "    v[1] = 6*(b[1] - b[0])\n",
    "    for i in range(2, n-1):\n",
    "        u[i] = 2*(h[i] + h[i-1]) - (h[i-1]**2/u[i-1])\n",
    "        v[i] = 6*(b[i] - b[i-1]) - (h[i-1]*v[i-1]/u[i-1])\n",
    "    z[n-1] = 0\n",
    "    for i in range(n-2, 1, -1):\n",
    "        z[i] = (v[i] - h[i]*z[i+1])/u[i]\n",
    "    z[0] = 0\n",
    "    return z"
   ]
  },
  {
   "cell_type": "code",
   "execution_count": 22,
   "id": "edbbd31f-00bb-4ab9-94ce-83f13322009d",
   "metadata": {},
   "outputs": [],
   "source": [
    "# Spline3_Eval pseudocode p.271\n",
    "def Spline3_Eval(n, t, y, z, x):\n",
    "    for i in range(n-1, 0, -1):\n",
    "        if x - t[i] >= 0:\n",
    "            break\n",
    "    h = t[i+1] - t[i]\n",
    "    tmp = z[i]/2 + (x - t[i])*(z[i+1] - z[i])/(6*h)\n",
    "    tmp = -(h/6)*(z[i+1] + 2*z[i]) + (y[i+1] - y[i])/h + (x - t[i])*tmp\n",
    "    return y[i] + (x-t[i])*tmp"
   ]
  },
  {
   "cell_type": "code",
   "execution_count": 23,
   "id": "71a2d5c7-980c-480f-a461-e226fa08e98f",
   "metadata": {},
   "outputs": [
    {
     "data": {
      "text/plain": [
       "array([ 0.        ,  0.        , -0.3669785 , -0.5362482 , -0.67848127,\n",
       "       -0.82769138, -0.83308707, -1.23772429,  0.        ])"
      ]
     },
     "execution_count": 23,
     "metadata": {},
     "output_type": "execute_result"
    }
   ],
   "source": [
    "# Test_Spline3 pseudocode p.272\n",
    "n = 9\n",
    "a = 0\n",
    "b = 1.6875\n",
    "h = (b - a)/n\n",
    "t = np.zeros(n)\n",
    "y = np.zeros(n)\n",
    "for i in range(0, n):\n",
    "    t[i] = a + i*h\n",
    "    y[i] = np.sin(t[i])\n",
    "z = np.zeros(n)\n",
    "Spline3_Coef(n, t, y, z)"
   ]
  },
  {
   "cell_type": "code",
   "execution_count": null,
   "id": "7ccb6fa6-e1b4-4c1e-9b01-287bea3524b3",
   "metadata": {},
   "outputs": [],
   "source": []
  }
 ],
 "metadata": {
  "kernelspec": {
   "display_name": "Python 3 (ipykernel)",
   "language": "python",
   "name": "python3"
  },
  "language_info": {
   "codemirror_mode": {
    "name": "ipython",
    "version": 3
   },
   "file_extension": ".py",
   "mimetype": "text/x-python",
   "name": "python",
   "nbconvert_exporter": "python",
   "pygments_lexer": "ipython3",
   "version": "3.9.7"
  }
 },
 "nbformat": 4,
 "nbformat_minor": 5
}
