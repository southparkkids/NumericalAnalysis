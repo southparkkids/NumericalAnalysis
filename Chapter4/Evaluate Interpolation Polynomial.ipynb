{
 "cells": [
  {
   "cell_type": "code",
   "execution_count": 1,
   "id": "f0aae9d3",
   "metadata": {},
   "outputs": [],
   "source": [
    "import numpy as np\n",
    "#Evaluation of Interpolation Polynomial Pseudocode\n",
    "def EvalInterpPoly(n,X,A):\n",
    "    V = np.zeros(n)\n",
    "    V = A[n]\n",
    "    for i in range(n-1,0,-1):\n",
    "        V = V*(t-X(i)) + A[i]\n",
    "    return V"
   ]
  },
  {
   "cell_type": "code",
   "execution_count": 2,
   "id": "82dde71c",
   "metadata": {},
   "outputs": [],
   "source": [
    "#Devided Differences Pseudocode\n",
    "def SlowDivDif(n,X,F):\n",
    "    A = np.zeros(n)\n",
    "    for i in range(0,n):\n",
    "        A[i][0] = F(X[i])\n",
    "    for j in range(1,n):\n",
    "        for i in range(0,n-j):\n",
    "            A[i][j] = (A[i+1][j-1] - A[i][j-1])/(X[i+j]-X[i])\n",
    "    return A"
   ]
  },
  {
   "cell_type": "code",
   "execution_count": 3,
   "id": "693d3cef",
   "metadata": {},
   "outputs": [],
   "source": [
    "#Improved Devided Differences Pseudocode\n",
    "def DivDif(n,X,F):\n",
    "    A = np.zeros(n)\n",
    "    for i in range(0,n):\n",
    "        A[i] = F(X[i])\n",
    "    for j in range(1,n):\n",
    "        for i in range(n,j,-1):\n",
    "            A[i] = (A[i] - A[i-1])/(X[i]-X[i-j])\n",
    "    return A"
   ]
  },
  {
   "cell_type": "code",
   "execution_count": 4,
   "id": "20a9c0c6",
   "metadata": {},
   "outputs": [],
   "source": [
    "# Coef Pseudocode\n",
    "def Coef(n,X,Y):\n",
    "    A = np.zeros(n+1)\n",
    "    for i in range(0,n+1):\n",
    "        A[i] = Y[i]\n",
    "    for j in range(1,n+1):\n",
    "        for i in range(n,j-1,-1):\n",
    "            A[i] = (A[i]-A[i-1])/(X[i]-X[i-j])\n",
    "    return A"
   ]
  },
  {
   "cell_type": "code",
   "execution_count": 5,
   "id": "adabbb4d",
   "metadata": {},
   "outputs": [],
   "source": [
    "# Eval Pseudocode\n",
    "def Eval(n,X,A,t):\n",
    "    temp = A[n]\n",
    "    for i in range(n-1,-1,-1):\n",
    "        temp = (temp)*(t-X[i])+A[i]\n",
    "    Eval = temp\n",
    "    return Eval"
   ]
  },
  {
   "cell_type": "code",
   "execution_count": 6,
   "id": "d8520266",
   "metadata": {},
   "outputs": [
    {
     "name": "stdout",
     "output_type": "stream",
     "text": [
      "X:  [0.     0.1875 0.375  0.5625 0.75   0.9375 1.125  1.3125 1.5    1.6875] \n",
      "Y:  [0.         0.1864033  0.36627253 0.53330267 0.68163876 0.80608111\n",
      " 0.90226759 0.96682656 0.99749499 0.99319785] \n",
      "A:  [ 0.00000000e+00  9.94150916e-01 -9.29289165e-02 -1.59415901e-01\n",
      "  1.51721688e-02  7.38017905e-03 -7.34214749e-04 -1.55595434e-04\n",
      "  1.67087082e-05  1.80764445e-06]\n",
      "jmax =  35\n",
      "tmax =  1.640625\n",
      "pmax =  0.9975629682064112\n",
      "emax =  4.901773431598144e-10\n"
     ]
    }
   ],
   "source": [
    "#Test_Coef_Eval Pseudocode\n",
    "n = 9\n",
    "h = 1.6875/n\n",
    "X = np.zeros(n+1)\n",
    "Y = np.zeros(n+1)\n",
    "for k in range(0,n+1):\n",
    "    X[k] = k*h\n",
    "    Y[k] = np.sin(X[k])\n",
    "A = Coef(n,X,Y)\n",
    "print(\"X: \",X,\"\\nY: \",Y,\"\\nA: \",A)\n",
    "emax = 0\n",
    "for j in range(0,4*n+1):\n",
    "    t = j*h/4\n",
    "    p = Eval(n,X,A,t)\n",
    "    e = np.abs(np.sin(t)-p)\n",
    "    if e > emax:\n",
    "        jmax = j\n",
    "        tmax = t\n",
    "        pmax = p\n",
    "        emax = e\n",
    "print(\"jmax = \",jmax)\n",
    "print(\"tmax = \",tmax)\n",
    "print(\"pmax = \",pmax)\n",
    "print(\"emax = \",emax)"
   ]
  },
  {
   "cell_type": "code",
   "execution_count": null,
   "id": "38e6e06a",
   "metadata": {},
   "outputs": [],
   "source": []
  }
 ],
 "metadata": {
  "kernelspec": {
   "display_name": "Python 3 (ipykernel)",
   "language": "python",
   "name": "python3"
  },
  "language_info": {
   "codemirror_mode": {
    "name": "ipython",
    "version": 3
   },
   "file_extension": ".py",
   "mimetype": "text/x-python",
   "name": "python",
   "nbconvert_exporter": "python",
   "pygments_lexer": "ipython3",
   "version": "3.9.7"
  }
 },
 "nbformat": 4,
 "nbformat_minor": 5
}
